{
 "cells": [
  {
   "cell_type": "code",
   "execution_count": 1,
   "metadata": {},
   "outputs": [
    {
     "name": "stdout",
     "output_type": "stream",
     "text": [
      "Requirement already satisfied: qdrant-client in /Users/dave/anaconda3/lib/python3.10/site-packages (1.3.1)\n",
      "Requirement already satisfied: grpcio>=1.41.0 in /Users/dave/anaconda3/lib/python3.10/site-packages (from qdrant-client) (1.56.0)\n",
      "Requirement already satisfied: urllib3<2.0.0,>=1.26.14 in /Users/dave/anaconda3/lib/python3.10/site-packages (from qdrant-client) (1.26.14)\n",
      "Requirement already satisfied: numpy>=1.21 in /Users/dave/anaconda3/lib/python3.10/site-packages (from qdrant-client) (1.23.5)\n",
      "Requirement already satisfied: pydantic<2.0,>=1.8 in /Users/dave/anaconda3/lib/python3.10/site-packages (from qdrant-client) (1.10.9)\n",
      "Requirement already satisfied: httpx[http2]>=0.14.0 in /Users/dave/anaconda3/lib/python3.10/site-packages (from qdrant-client) (0.24.1)\n",
      "Requirement already satisfied: grpcio-tools>=1.41.0 in /Users/dave/anaconda3/lib/python3.10/site-packages (from qdrant-client) (1.56.0)\n",
      "Requirement already satisfied: portalocker<3.0.0,>=2.7.0 in /Users/dave/anaconda3/lib/python3.10/site-packages (from qdrant-client) (2.7.0)\n",
      "Requirement already satisfied: typing-extensions<4.6.0,>=4.0.0 in /Users/dave/anaconda3/lib/python3.10/site-packages (from qdrant-client) (4.5.0)\n",
      "Requirement already satisfied: protobuf<5.0dev,>=4.21.6 in /Users/dave/anaconda3/lib/python3.10/site-packages (from grpcio-tools>=1.41.0->qdrant-client) (4.23.3)\n",
      "Requirement already satisfied: setuptools in /Users/dave/anaconda3/lib/python3.10/site-packages (from grpcio-tools>=1.41.0->qdrant-client) (65.6.3)\n",
      "Requirement already satisfied: idna in /Users/dave/anaconda3/lib/python3.10/site-packages (from httpx[http2]>=0.14.0->qdrant-client) (3.4)\n",
      "Requirement already satisfied: httpcore<0.18.0,>=0.15.0 in /Users/dave/anaconda3/lib/python3.10/site-packages (from httpx[http2]>=0.14.0->qdrant-client) (0.17.2)\n",
      "Requirement already satisfied: sniffio in /Users/dave/anaconda3/lib/python3.10/site-packages (from httpx[http2]>=0.14.0->qdrant-client) (1.2.0)\n",
      "Requirement already satisfied: certifi in /Users/dave/anaconda3/lib/python3.10/site-packages (from httpx[http2]>=0.14.0->qdrant-client) (2022.12.7)\n",
      "Requirement already satisfied: h2<5,>=3 in /Users/dave/anaconda3/lib/python3.10/site-packages (from httpx[http2]>=0.14.0->qdrant-client) (4.1.0)\n",
      "Requirement already satisfied: hyperframe<7,>=6.0 in /Users/dave/anaconda3/lib/python3.10/site-packages (from h2<5,>=3->httpx[http2]>=0.14.0->qdrant-client) (6.0.1)\n",
      "Requirement already satisfied: hpack<5,>=4.0 in /Users/dave/anaconda3/lib/python3.10/site-packages (from h2<5,>=3->httpx[http2]>=0.14.0->qdrant-client) (4.0.0)\n",
      "Requirement already satisfied: h11<0.15,>=0.13 in /Users/dave/anaconda3/lib/python3.10/site-packages (from httpcore<0.18.0,>=0.15.0->httpx[http2]>=0.14.0->qdrant-client) (0.14.0)\n",
      "Requirement already satisfied: anyio<5.0,>=3.0 in /Users/dave/anaconda3/lib/python3.10/site-packages (from httpcore<0.18.0,>=0.15.0->httpx[http2]>=0.14.0->qdrant-client) (3.5.0)\n"
     ]
    }
   ],
   "source": [
    "# install qdrant\n",
    "!pip install qdrant-client "
   ]
  },
  {
   "cell_type": "code",
   "execution_count": 2,
   "metadata": {},
   "outputs": [],
   "source": [
    "# initialize client\n",
    "from qdrant_client import models, QdrantClient\n",
    "\n",
    "client = QdrantClient(\":memory:\")"
   ]
  },
  {
   "cell_type": "code",
   "execution_count": 3,
   "metadata": {},
   "outputs": [],
   "source": [
    "# create a collection\n",
    "from qdrant_client.models import Distance, VectorParams\n",
    "\n",
    "collection_creation = client.recreate_collection(\n",
    "    collection_name=\"test_collection\",\n",
    "    vectors_config=VectorParams(size=4, distance=Distance.DOT),\n",
    ")"
   ]
  },
  {
   "cell_type": "code",
   "execution_count": 4,
   "metadata": {},
   "outputs": [],
   "source": [
    "# add vectors\n",
    "from qdrant_client.http.models import PointStruct\n",
    "\n",
    "upsert_status = client.upsert(\n",
    "    collection_name=\"test_collection\",\n",
    "    wait=True,\n",
    "    points=[\n",
    "        PointStruct(id=1, vector=[0.05, 0.61, 0.76, 0.74], payload={\"city\": \"Berlin\"}),\n",
    "        PointStruct(\n",
    "            id=2,\n",
    "            vector=[0.19, 0.81, 0.75, 0.11],\n",
    "            payload={\"city\": [\"Berlin\", \"London\"]},\n",
    "        ),\n",
    "        PointStruct(\n",
    "            id=3,\n",
    "            vector=[0.36, 0.55, 0.47, 0.94],\n",
    "            payload={\"city\": [\"Berlin\", \"Moscow\"]},\n",
    "        ),\n",
    "        PointStruct(\n",
    "            id=4,\n",
    "            vector=[0.18, 0.01, 0.85, 0.80],\n",
    "            payload={\"city\": [\"London\", \"Moscow\"]},\n",
    "        ),\n",
    "        PointStruct(id=5, vector=[0.35, 0.08, 0.11, 0.44], payload={\"city\": [\"Mumbai\", \"Frankfurt\"]}),\n",
    "    ],\n",
    ")"
   ]
  },
  {
   "cell_type": "code",
   "execution_count": 5,
   "metadata": {},
   "outputs": [
    {
     "data": {
      "text/plain": [
       "[ScoredPoint(id=4, version=0, score=1.362000031210482, payload={'city': ['London', 'Moscow']}, vector=None),\n",
       " ScoredPoint(id=1, version=0, score=1.2729999996721744, payload={'city': 'Berlin'}, vector=None),\n",
       " ScoredPoint(id=3, version=0, score=1.2080000013113021, payload={'city': ['Berlin', 'Moscow']}, vector=None)]"
      ]
     },
     "execution_count": 5,
     "metadata": {},
     "output_type": "execute_result"
    }
   ],
   "source": [
    "# run a query\n",
    "search_result = client.search(\n",
    "    collection_name=\"test_collection\", query_vector=[0.2, 0.1, 0.9, 0.7], limit=3\n",
    ")\n",
    "search_result"
   ]
  },
  {
   "cell_type": "code",
   "execution_count": 6,
   "metadata": {},
   "outputs": [
    {
     "data": {
      "text/plain": [
       "[ScoredPoint(id=4, version=0, score=1.362000031210482, payload={'city': ['London', 'Moscow']}, vector=None),\n",
       " ScoredPoint(id=2, version=0, score=0.8709999993443489, payload={'city': ['Berlin', 'London']}, vector=None)]"
      ]
     },
     "execution_count": 6,
     "metadata": {},
     "output_type": "execute_result"
    }
   ],
   "source": [
    "from qdrant_client.http.models import Filter, FieldCondition, MatchValue\n",
    "\n",
    "search_result = client.search(\n",
    "    collection_name=\"test_collection\",\n",
    "    query_vector=[0.2, 0.1, 0.9, 0.7],\n",
    "    query_filter=Filter(\n",
    "        must=[FieldCondition(key=\"city\", match=MatchValue(value=\"London\"))]\n",
    "    ),\n",
    "    limit=3,\n",
    ")\n",
    "search_result"
   ]
  }
 ],
 "metadata": {
  "kernelspec": {
   "display_name": "Python 3 (ipykernel)",
   "language": "python",
   "name": "python3"
  },
  "language_info": {
   "codemirror_mode": {
    "name": "ipython",
    "version": 3
   },
   "file_extension": ".py",
   "mimetype": "text/x-python",
   "name": "python",
   "nbconvert_exporter": "python",
   "pygments_lexer": "ipython3",
   "version": "3.11.3"
  }
 },
 "nbformat": 4,
 "nbformat_minor": 2
}
